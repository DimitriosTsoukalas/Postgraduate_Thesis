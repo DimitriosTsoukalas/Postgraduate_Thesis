{
 "cells": [
  {
   "cell_type": "markdown",
   "metadata": {},
   "source": [
    "# LDA\n",
    "\n",
    "\n",
    "The current experiment is focusing on applying LDA on merged questions."
   ]
  },
  {
   "cell_type": "code",
   "execution_count": 14,
   "metadata": {
    "collapsed": false
   },
   "outputs": [
    {
     "name": "stdout",
     "output_type": "stream",
     "text": [
      "These are the total number of features extracted from DF1:\n",
      "\n",
      "['QuestionNumber' 'FacesEliminated' 'Question' 'BoardNumber' 'ActionType'\n",
      " 'UniqueID' 'FacesEliminatedCount' 'FinalChoice' 'QuestionResponse']\n",
      "\n",
      "And these are some examples of the question feature:\n",
      "\n",
      "2    Does the persons shirt have the word life on it?\n",
      "3                       does the person have glasses?\n",
      "4                   Does the person have facial hair?\n",
      "5                                 Is the person male?\n",
      "Name: Question, dtype: object\n"
     ]
    }
   ],
   "source": [
    "import pandas as pd\n",
    "from nltk.corpus import stopwords\n",
    "from nltk.tokenize import RegexpTokenizer\n",
    "from stop_words import get_stop_words\n",
    "from nltk.stem.porter import PorterStemmer\n",
    "from gensim import corpora, models\n",
    "import gensim\n",
    "\n",
    "df = pd.read_csv(\"questions.csv\")\n",
    "\n",
    "print \"These are the total number of features extracted from DF1:\"\n",
    "print\n",
    "print df.columns.values\n",
    "print\n",
    "print \"And these are some examples of the question feature:\" \n",
    "print\n",
    "print df[\"Question\"][2:6]"
   ]
  },
  {
   "cell_type": "code",
   "execution_count": 16,
   "metadata": {
    "collapsed": false
   },
   "outputs": [],
   "source": [
    "df1 = df[\"Question\"]"
   ]
  },
  {
   "cell_type": "markdown",
   "metadata": {},
   "source": [
    "## Preprocessing\n",
    "\n",
    "This section includes, lowercasing,tokenization and removal of stop words.\n",
    "It does not include the preprocessing step which removed the additional words. This is handled in a different script."
   ]
  },
  {
   "cell_type": "code",
   "execution_count": 24,
   "metadata": {
    "collapsed": true
   },
   "outputs": [],
   "source": [
    "tokenizer = RegexpTokenizer(r'\\w+')\n",
    "en_stop = get_stop_words('en')\n",
    "doc_set = []\n",
    "\n",
    "for items in df1:\n",
    "    doc_set.append(items)\n",
    "    \n",
    "texts = []\n",
    "\n",
    "# loop through document list\n",
    "for i in doc_set:\n",
    "    \n",
    "\n",
    "    raw = i.lower()\n",
    "    tokens = tokenizer.tokenize(raw)\n",
    "    stopped_tokens = [i for i in tokens if not i in en_stop]    \n",
    "    texts.append(stopped_tokens)\n",
    "\n",
    "dictionary = corpora.Dictionary(texts)\n",
    "corpus = [dictionary.doc2bow(text) for text in texts]"
   ]
  },
  {
   "cell_type": "markdown",
   "metadata": {},
   "source": [
    "## Define the LDA model\n",
    "\n",
    "This section just assigns the topics and the number of words that define each topic. It is a process that was assigned to loop 20 times in all instances in order to assign properly the topics."
   ]
  },
  {
   "cell_type": "code",
   "execution_count": 25,
   "metadata": {
    "collapsed": true
   },
   "outputs": [],
   "source": [
    "ldamodel = gensim.models.ldamodel.LdaModel(corpus, num_topics=10, id2word = dictionary, passes=20)"
   ]
  },
  {
   "cell_type": "markdown",
   "metadata": {},
   "source": [
    "## Presenting the results\n",
    "\n",
    "The below results are the top 3 words along with their probabilities assigned. These results were cleaned from the unecessary characters (e.g *,\",u' etc) and then they were presented in the thesis document (doc file)"
   ]
  },
  {
   "cell_type": "code",
   "execution_count": 23,
   "metadata": {
    "collapsed": false
   },
   "outputs": [
    {
     "name": "stdout",
     "output_type": "stream",
     "text": [
      "[(0, u'0.219*\"person\" + 0.160*\"beard\" + 0.146*\"hair\"'), (1, u'0.142*\"hair\" + 0.133*\"facial\" + 0.131*\"person\"'), (2, u'0.315*\"person\" + 0.122*\"female\" + 0.105*\"young\"'), (3, u'0.197*\"person\" + 0.131*\"s\" + 0.114*\"light\"'), (4, u'0.396*\"hair\" + 0.160*\"person\" + 0.118*\"long\"'), (5, u'0.220*\"shirt\" + 0.140*\"person\" + 0.124*\"life\"'), (6, u'0.382*\"glasses\" + 0.187*\"person\" + 0.186*\"wearing\"'), (7, u'0.864*\"x\" + 0.018*\"american\" + 0.017*\"african\"'), (8, u'0.273*\"girl\" + 0.150*\"blonde\" + 0.090*\"tan\"'), (9, u'0.256*\"person\" + 0.161*\"asian\" + 0.126*\"male\"')]\n"
     ]
    }
   ],
   "source": [
    "print(ldamodel.print_topics(num_topics=10, num_words=3))"
   ]
  }
 ],
 "metadata": {
  "kernelspec": {
   "display_name": "Python 2",
   "language": "python",
   "name": "python2"
  },
  "language_info": {
   "codemirror_mode": {
    "name": "ipython",
    "version": 2
   },
   "file_extension": ".py",
   "mimetype": "text/x-python",
   "name": "python",
   "nbconvert_exporter": "python",
   "pygments_lexer": "ipython2",
   "version": "2.7.13"
  }
 },
 "nbformat": 4,
 "nbformat_minor": 2
}
