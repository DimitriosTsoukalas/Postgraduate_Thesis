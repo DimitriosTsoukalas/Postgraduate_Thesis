{
 "cells": [
  {
   "cell_type": "markdown",
   "metadata": {},
   "source": [
    "# Isolating Features from Raw Data\n",
    "\n",
    "The current experiment is focusing on isolating the physical description from the content of the DF1 that contains description entries from users that participated in the independent experiment that conducted recently."
   ]
  },
  {
   "cell_type": "code",
   "execution_count": 1,
   "metadata": {
    "collapsed": false
   },
   "outputs": [
    {
     "name": "stdout",
     "output_type": "stream",
     "text": [
      "2491\n"
     ]
    }
   ],
   "source": [
    "import json\n",
    "from pprint import pprint\n",
    "\n",
    "with open('desc.json') as data_file:    \n",
    "    data = json.load(data_file)\n",
    "\n",
    "    print len(data)    \n",
    "#Please note that the data variable is a dictionary"
   ]
  },
  {
   "cell_type": "markdown",
   "metadata": {},
   "source": [
    "## Presenting the database - DF1\n",
    "\n",
    "The below line is just one instance of the DF1"
   ]
  },
  {
   "cell_type": "code",
   "execution_count": 2,
   "metadata": {
    "collapsed": false
   },
   "outputs": [
    {
     "data": {
      "text/plain": [
       "{u'completion_code': u'oA0SP-#-L8ggp',\n",
       " u'demographics': {u'age': u'35',\n",
       "  u'country': u'United States of America',\n",
       "  u'ethnicity': u'white',\n",
       "  u'ethnicity-details': u'',\n",
       "  u'gender': u'male'},\n",
       " u'experimentCode': u'guess-who-rating-task-v2',\n",
       " u'faceID': u'IMG_7942',\n",
       " u'responses': {u'age': u'24',\n",
       "  u'attractive': u'agree',\n",
       "  u'ethnicity': u'white',\n",
       "  u'ethnicity-details': u'Lebanese',\n",
       "  u'eye': u'brown',\n",
       "  u'hair': u'black',\n",
       "  u'non-physical-description': u\"This person spends a lot of time at the computer.   They eat a rich diet heavy on animal products.  They are a careful groomer but feel it doesn't pay off.  They get a once monthly haircut at a barber shop.\",\n",
       "  u'occupation': u'grad student',\n",
       "  u'photo-gender': u'male',\n",
       "  u'physical-description': u'They have short[comma] dark hair and light brown to olive skin. They have thick[comma] red lips and short[comma] dark[comma] patchy facial hair. They wear large frames and have some signs of acne.',\n",
       "  u'typical': u'agree'},\n",
       " u'state': u'finished-instructions',\n",
       " u'trialNumber': 3,\n",
       " u'uniqueID': 91607}"
      ]
     },
     "execution_count": 2,
     "metadata": {},
     "output_type": "execute_result"
    }
   ],
   "source": [
    "data[1]"
   ]
  },
  {
   "cell_type": "markdown",
   "metadata": {},
   "source": [
    "## Isolating the physical description\n",
    "\n",
    "The following regular expression was used to isolate the physical description and extract it from the whole instance that is examined previously."
   ]
  },
  {
   "cell_type": "code",
   "execution_count": 12,
   "metadata": {
    "collapsed": false
   },
   "outputs": [],
   "source": [
    "import re\n",
    "\n",
    "final = []\n",
    "\n",
    "for items in data:\n",
    "    items= str(items)\n",
    "    capture = re.search(r\"(.*)(physical-description.*)(attractive)(.*)\",items)\n",
    "    if capture:\n",
    "        captured = capture.group(2)\n",
    "        final.append(captured[24:-2:])"
   ]
  },
  {
   "cell_type": "code",
   "execution_count": 13,
   "metadata": {
    "collapsed": false
   },
   "outputs": [
    {
     "name": "stdout",
     "output_type": "stream",
     "text": [
      "Example instance of isolated physical description is presented below:\n",
      "\n",
      "'They have short[comma] dark hair and light brown to olive skin. They have thick[comma] red lips and short[comma] dark[comma] patchy facial hair. They wear large frames and have some signs of acne.', \n"
     ]
    }
   ],
   "source": [
    "print \"Example instance of isolated physical description is presented below:\"\n",
    "print\n",
    "print final[1]"
   ]
  },
  {
   "cell_type": "markdown",
   "metadata": {},
   "source": [
    "## Removal of the [comma] from the above instance(s)"
   ]
  },
  {
   "cell_type": "code",
   "execution_count": 14,
   "metadata": {
    "collapsed": true
   },
   "outputs": [],
   "source": [
    "allsent = []\n",
    "\n",
    "for items in final:\n",
    "    sentence = []\n",
    "    items = str(items)\n",
    "    items = items.lower()\n",
    "    items = items.split()\n",
    "    for words in items:\n",
    "        capture = re.search(r\"(.*)(\\[comma)(.*)\",words)\n",
    "        if capture:\n",
    "            #print capture.group(1)\n",
    "            sentence.append(capture.group(1))\n",
    "        else:\n",
    "            sentence.append(words)\n",
    "    allsent.append(sentence)\n"
   ]
  },
  {
   "cell_type": "code",
   "execution_count": 15,
   "metadata": {
    "collapsed": false
   },
   "outputs": [],
   "source": [
    "final = []\n",
    "\n",
    "for items in allsent:\n",
    "    final.append(\" \".join(items))"
   ]
  },
  {
   "cell_type": "code",
   "execution_count": 16,
   "metadata": {
    "collapsed": false
   },
   "outputs": [
    {
     "data": {
      "text/plain": [
       "2491"
      ]
     },
     "execution_count": 16,
     "metadata": {},
     "output_type": "execute_result"
    }
   ],
   "source": [
    "len(final)"
   ]
  },
  {
   "cell_type": "code",
   "execution_count": 17,
   "metadata": {
    "collapsed": false
   },
   "outputs": [
    {
     "name": "stdout",
     "output_type": "stream",
     "text": [
      "The result of the above mentioned instance after removing the [comma]:\n",
      "\n",
      "'they have short dark hair and light brown to olive skin. they have thick red lips and short dark patchy facial hair. they wear large frames and have some signs of acne.',\n"
     ]
    }
   ],
   "source": [
    "print \"The result of the above mentioned instance after removing the [comma]:\"\n",
    "print\n",
    "print final[1]"
   ]
  },
  {
   "cell_type": "markdown",
   "metadata": {},
   "source": [
    "## Isolating ImageID\n",
    "\n",
    "Using another regular expression, the ImageID is isolated from the content of the instance that is examined in the beginning of this experiment"
   ]
  },
  {
   "cell_type": "code",
   "execution_count": 18,
   "metadata": {
    "collapsed": false
   },
   "outputs": [],
   "source": [
    "import re\n",
    "\n",
    "images = []\n",
    "\n",
    "for items in data:\n",
    "    items= str(items)\n",
    "    capture = re.search(r\"(.*)(faceID)(.*)\",items)\n",
    "    if capture:\n",
    "        captured = capture.group(3)\n",
    "        captured = captured[4:-1:]\n",
    "        images.append(captured)"
   ]
  },
  {
   "cell_type": "code",
   "execution_count": 19,
   "metadata": {
    "collapsed": false
   },
   "outputs": [
    {
     "data": {
      "text/plain": [
       "2491"
      ]
     },
     "execution_count": 19,
     "metadata": {},
     "output_type": "execute_result"
    }
   ],
   "source": [
    "len(images)"
   ]
  },
  {
   "cell_type": "markdown",
   "metadata": {},
   "source": [
    "## Create Database\n",
    "\n",
    "A database is created, containing the ImageID and the description feature respectively."
   ]
  },
  {
   "cell_type": "code",
   "execution_count": 20,
   "metadata": {
    "collapsed": false
   },
   "outputs": [],
   "source": [
    "import numpy as np\n",
    "import pandas as pd\n",
    "\n",
    "df = pd.DataFrame(np.zeros((2491, 2)))"
   ]
  },
  {
   "cell_type": "code",
   "execution_count": 21,
   "metadata": {
    "collapsed": false
   },
   "outputs": [],
   "source": [
    "df[0] = images\n",
    "df[1] = final"
   ]
  },
  {
   "cell_type": "code",
   "execution_count": 22,
   "metadata": {
    "collapsed": false
   },
   "outputs": [
    {
     "data": {
      "text/html": [
       "<div>\n",
       "<table border=\"1\" class=\"dataframe\">\n",
       "  <thead>\n",
       "    <tr style=\"text-align: right;\">\n",
       "      <th></th>\n",
       "      <th>0</th>\n",
       "      <th>1</th>\n",
       "    </tr>\n",
       "  </thead>\n",
       "  <tbody>\n",
       "    <tr>\n",
       "      <th>0</th>\n",
       "      <td>'IMG_8622'</td>\n",
       "      <td>'has beautiful eyebrows and a nice hair cut. h...</td>\n",
       "    </tr>\n",
       "    <tr>\n",
       "      <th>1</th>\n",
       "      <td>'IMG_7942'</td>\n",
       "      <td>'they have short dark hair and light brown to ...</td>\n",
       "    </tr>\n",
       "    <tr>\n",
       "      <th>2</th>\n",
       "      <td>'IMG_0401'</td>\n",
       "      <td>'this is an asian guy in his 20s. he has short...</td>\n",
       "    </tr>\n",
       "    <tr>\n",
       "      <th>3</th>\n",
       "      <td>'IMG_0018'</td>\n",
       "      <td>'this person has a crew cut with dirty blonde ...</td>\n",
       "    </tr>\n",
       "    <tr>\n",
       "      <th>4</th>\n",
       "      <td>'IMG_0777'</td>\n",
       "      <td>'long hair combed over all emo like. a beard t...</td>\n",
       "    </tr>\n",
       "  </tbody>\n",
       "</table>\n",
       "</div>"
      ],
      "text/plain": [
       "            0                                                  1\n",
       "0  'IMG_8622'  'has beautiful eyebrows and a nice hair cut. h...\n",
       "1  'IMG_7942'  'they have short dark hair and light brown to ...\n",
       "2  'IMG_0401'  'this is an asian guy in his 20s. he has short...\n",
       "3  'IMG_0018'  'this person has a crew cut with dirty blonde ...\n",
       "4  'IMG_0777'  'long hair combed over all emo like. a beard t..."
      ]
     },
     "execution_count": 22,
     "metadata": {},
     "output_type": "execute_result"
    }
   ],
   "source": [
    "df[0:5]"
   ]
  },
  {
   "cell_type": "code",
   "execution_count": 100,
   "metadata": {
    "collapsed": true
   },
   "outputs": [],
   "source": [
    "#df.to_csv(\"desc.csv\", sep=',')"
   ]
  },
  {
   "cell_type": "markdown",
   "metadata": {},
   "source": [
    "# END\n",
    "\n",
    "The above mentioned example describes the isolation of the features that the current thesis is interested upon. For this specific case, two features were extracted from the DF1. The ImageID and the Description feature. Further experimentation is examined in the thesis document and on the different processes that are presented in the GitHub profile"
   ]
  }
 ],
 "metadata": {
  "kernelspec": {
   "display_name": "Python 2",
   "language": "python",
   "name": "python2"
  },
  "language_info": {
   "codemirror_mode": {
    "name": "ipython",
    "version": 2
   },
   "file_extension": ".py",
   "mimetype": "text/x-python",
   "name": "python",
   "nbconvert_exporter": "python",
   "pygments_lexer": "ipython2",
   "version": "2.7.13"
  }
 },
 "nbformat": 4,
 "nbformat_minor": 2
}
