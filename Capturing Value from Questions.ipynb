{
 "cells": [
  {
   "cell_type": "markdown",
   "metadata": {},
   "source": [
    "# Capturing value from Questions\n",
    "\n",
    "The question feature contains a sum of questions that are asked for a given image. Those questions were filtered, the stop words were removed, the words are tokenized and cleaned and eventually they are now placed under the process of taging them with value. Please note that these questions are questions that were answered positively only (the answer is yes!!!)."
   ]
  },
  {
   "cell_type": "markdown",
   "metadata": {},
   "source": [
    "## Phase 1 - Importing libraries and database"
   ]
  },
  {
   "cell_type": "code",
   "execution_count": 62,
   "metadata": {
    "collapsed": false
   },
   "outputs": [
    {
     "name": "stdout",
     "output_type": "stream",
     "text": [
      "The database df has 169 number of rows\n"
     ]
    },
    {
     "data": {
      "text/html": [
       "<div>\n",
       "<table border=\"1\" class=\"dataframe\">\n",
       "  <thead>\n",
       "    <tr style=\"text-align: right;\">\n",
       "      <th></th>\n",
       "      <th>Unnamed: 0</th>\n",
       "      <th>Question</th>\n",
       "      <th>Images</th>\n",
       "    </tr>\n",
       "  </thead>\n",
       "  <tbody>\n",
       "    <tr>\n",
       "      <th>0</th>\n",
       "      <td>0</td>\n",
       "      <td>['smiling', 'asian', \"see full text front pers...</td>\n",
       "      <td>IMG_0611</td>\n",
       "    </tr>\n",
       "    <tr>\n",
       "      <th>1</th>\n",
       "      <td>1</td>\n",
       "      <td>['glasses', 'glasses', \"word life visible pers...</td>\n",
       "      <td>IMG_8964</td>\n",
       "    </tr>\n",
       "    <tr>\n",
       "      <th>2</th>\n",
       "      <td>2</td>\n",
       "      <td>[\"person's undershirt white\", 'caucasian', \"wo...</td>\n",
       "      <td>IMG_8213</td>\n",
       "    </tr>\n",
       "    <tr>\n",
       "      <th>3</th>\n",
       "      <td>3</td>\n",
       "      <td>['long hair', 'hair', 'big', 'old', 'hair brow...</td>\n",
       "      <td>IMG_0446</td>\n",
       "    </tr>\n",
       "    <tr>\n",
       "      <th>4</th>\n",
       "      <td>4</td>\n",
       "      <td>['hair', 'hair', 'girl']</td>\n",
       "      <td>IMG_9977</td>\n",
       "    </tr>\n",
       "    <tr>\n",
       "      <th>5</th>\n",
       "      <td>5</td>\n",
       "      <td>['white', 'black', 'hair parted left', 'hair b...</td>\n",
       "      <td>IMG_8637</td>\n",
       "    </tr>\n",
       "    <tr>\n",
       "      <th>6</th>\n",
       "      <td>6</td>\n",
       "      <td>['blond hair', 'grinning', 'white']</td>\n",
       "      <td>IMG_8168</td>\n",
       "    </tr>\n",
       "    <tr>\n",
       "      <th>7</th>\n",
       "      <td>7</td>\n",
       "      <td>['afro', 'curly hair', 'long hair', 'green und...</td>\n",
       "      <td>IMG_0123</td>\n",
       "    </tr>\n",
       "    <tr>\n",
       "      <th>8</th>\n",
       "      <td>8</td>\n",
       "      <td>['glasses', 'tall', 'hair long', 'asian', 'wri...</td>\n",
       "      <td>IMG_9529</td>\n",
       "    </tr>\n",
       "    <tr>\n",
       "      <th>9</th>\n",
       "      <td>9</td>\n",
       "      <td>['tall', 'old']</td>\n",
       "      <td>IMG_0048</td>\n",
       "    </tr>\n",
       "  </tbody>\n",
       "</table>\n",
       "</div>"
      ],
      "text/plain": [
       "   Unnamed: 0                                           Question    Images\n",
       "0           0  ['smiling', 'asian', \"see full text front pers...  IMG_0611\n",
       "1           1  ['glasses', 'glasses', \"word life visible pers...  IMG_8964\n",
       "2           2  [\"person's undershirt white\", 'caucasian', \"wo...  IMG_8213\n",
       "3           3  ['long hair', 'hair', 'big', 'old', 'hair brow...  IMG_0446\n",
       "4           4                           ['hair', 'hair', 'girl']  IMG_9977\n",
       "5           5  ['white', 'black', 'hair parted left', 'hair b...  IMG_8637\n",
       "6           6                ['blond hair', 'grinning', 'white']  IMG_8168\n",
       "7           7  ['afro', 'curly hair', 'long hair', 'green und...  IMG_0123\n",
       "8           8  ['glasses', 'tall', 'hair long', 'asian', 'wri...  IMG_9529\n",
       "9           9                                    ['tall', 'old']  IMG_0048"
      ]
     },
     "execution_count": 62,
     "metadata": {},
     "output_type": "execute_result"
    }
   ],
   "source": [
    "import pandas as pd\n",
    "import numpy as np\n",
    "import re\n",
    "import nltk\n",
    "from nltk.corpus import stopwords\n",
    "\n",
    "\n",
    "df = pd.read_csv(\"qandas.csv\")\n",
    "\n",
    "print \"The database df has\",len(df), \"number of rows.\"\n",
    "df[0:10]"
   ]
  },
  {
   "cell_type": "markdown",
   "metadata": {},
   "source": [
    "## Phase 2 - Preprocessing and cleaning\n",
    "\n",
    "The preprocessing step actually occured in other experiment. In this section, only some characters are removed."
   ]
  },
  {
   "cell_type": "code",
   "execution_count": 10,
   "metadata": {
    "collapsed": false
   },
   "outputs": [],
   "source": [
    "allwords = []\n",
    "for items in df[\"Question\"]:\n",
    "    #print items\n",
    "    temporar = []\n",
    "    for words in items.split():\n",
    "        words = words.strip(\",[]\\\"'\")\n",
    "        temporar.append(words)\n",
    "    allwords.append(temporar)"
   ]
  },
  {
   "cell_type": "code",
   "execution_count": 16,
   "metadata": {
    "collapsed": false
   },
   "outputs": [
    {
     "name": "stdout",
     "output_type": "stream",
     "text": [
      "                                                   0         1\n",
      "0  [smiling, asian, see, full, text, front, perso...  IMG_0611\n",
      "1  [glasses, glasses, word, life, visible, person...  IMG_8964\n",
      "2  [person's, undershirt, white, caucasian, word,...  IMG_8213\n",
      "3  [long, hair, hair, big, old, hair, brown, boy,...  IMG_0446\n",
      "4                                 [hair, hair, girl]  IMG_9977\n",
      "5   [white, black, hair, parted, left, hair, blonde]  IMG_8637\n",
      "6                     [blond, hair, grinning, white]  IMG_8168\n",
      "7  [afro, curly, hair, long, hair, green, undersh...  IMG_0123\n",
      "8  [glasses, tall, hair, long, asian, writing, vi...  IMG_9529\n",
      "9                                        [tall, old]  IMG_0048\n"
     ]
    }
   ],
   "source": [
    "df1 = pd.DataFrame(np.zeros((169, 2)))\n",
    "df1[0] = allwords\n",
    "df1[1] = df[\"Images\"]\n",
    "print df1[0:10]\n"
   ]
  },
  {
   "cell_type": "markdown",
   "metadata": {},
   "source": [
    "## Phase 3 - Assigning Hair Color\n",
    "The following procedure is pure words matching. The same procedure was run under regular expressions. There is no differece eventually. Generally speaking, this level of processing is the most accurate but still there are some deficiencies that can be discussed or be splitted in order to avoide capturing them."
   ]
  },
  {
   "cell_type": "code",
   "execution_count": 58,
   "metadata": {
    "collapsed": false
   },
   "outputs": [
    {
     "name": "stdout",
     "output_type": "stream",
     "text": [
      "50\n"
     ]
    }
   ],
   "source": [
    "count = 0\n",
    "\n",
    "hair_color = []\n",
    "\n",
    "for items in df1[0]:\n",
    "    items = \" \".join(items)\n",
    "    if \"blond\" in items:\n",
    "        count+=1\n",
    "        hair_color.append(\"blonde\")\n",
    "    elif \"brown\" in items:\n",
    "        count+=1\n",
    "        hair_color.append(\"brown\")\n",
    "        #print items\n",
    "    elif \"green hair\" in items:\n",
    "        count+=1\n",
    "        hair_color.append(\"green\")\n",
    "        #print items\n",
    "    elif \"red hair\" in items:\n",
    "        count+=1\n",
    "        hair_color.append(\"red\")\n",
    "        #print items\n",
    "    elif \"brunette\" in items:\n",
    "        count+=1\n",
    "        hair_color.append(\"brown\")\n",
    "        #print itemsprint count\n",
    "    else:\n",
    "        hair_color.append(\"-\")\n",
    "print count"
   ]
  },
  {
   "cell_type": "code",
   "execution_count": 63,
   "metadata": {
    "collapsed": false
   },
   "outputs": [
    {
     "name": "stdout",
     "output_type": "stream",
     "text": [
      "['-', '-', '-', 'brown', '-', 'blonde', 'blonde', '-', 'blonde', '-', '-', 'blonde', '-', '-', '-', '-', 'brown', 'blonde', '-', '-', 'blonde', '-', 'brown', '-', '-', '-', '-', 'blonde', 'blonde', 'blonde', '-', '-', '-', '-', 'blonde', '-', '-', '-', '-', 'blonde']\n",
      "\n",
      "\n",
      "169\n"
     ]
    }
   ],
   "source": [
    "print hair_color[0:40]\n",
    "print\n",
    "print\n",
    "print len(hair_color)"
   ]
  },
  {
   "cell_type": "code",
   "execution_count": null,
   "metadata": {
    "collapsed": true
   },
   "outputs": [],
   "source": []
  }
 ],
 "metadata": {
  "kernelspec": {
   "display_name": "Python 2",
   "language": "python",
   "name": "python2"
  },
  "language_info": {
   "codemirror_mode": {
    "name": "ipython",
    "version": 2
   },
   "file_extension": ".py",
   "mimetype": "text/x-python",
   "name": "python",
   "nbconvert_exporter": "python",
   "pygments_lexer": "ipython2",
   "version": "2.7.13"
  }
 },
 "nbformat": 4,
 "nbformat_minor": 2
}
